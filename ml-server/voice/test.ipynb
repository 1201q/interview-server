{
 "cells": [
  {
   "cell_type": "code",
   "execution_count": null,
   "id": "a04aa68a",
   "metadata": {},
   "outputs": [
    {
     "name": "stdout",
     "output_type": "stream",
     "text": [
      "c:\\projects\\interview\\interview-server\\ml-server\\voice\\viz_input.png\n"
     ]
    }
   ],
   "source": [
    "# visualize_timeline_min.py\n",
    "from pathlib import Path\n",
    "import json\n",
    "import matplotlib.pyplot as plt\n",
    "\n",
    "BASE = Path.cwd()\n",
    "JSON_DIR = BASE / \"json\"\n",
    "\n",
    "\n",
    "def load_words(p: Path):\n",
    "    d = json.loads(p.read_text(encoding=\"utf-8\"))\n",
    "    ws = []\n",
    "    segs = d.get(\"segments\")\n",
    "    if isinstance(segs, list):\n",
    "        for seg in segs:\n",
    "            for w in seg.get(\"words\", []):\n",
    "                s, e = float(w.get(\"start\", 0)), float(w.get(\"end\", 0))\n",
    "                if e > s:\n",
    "                    ws.append({\"start\": s, \"end\": e})\n",
    "    if not ws and isinstance(d.get(\"words\"), list):\n",
    "        for w in d[\"words\"]:\n",
    "            s, e = float(w.get(\"start\", 0)), float(w.get(\"end\", 0))\n",
    "            if e > s:\n",
    "                ws.append({\"start\": s, \"end\": e})\n",
    "    ws.sort(key=lambda x: (x[\"start\"], x[\"end\"]))\n",
    "    return ws\n",
    "\n",
    "\n",
    "def find_gaps(ws):\n",
    "    if not ws:\n",
    "        return []\n",
    "    gaps = []\n",
    "    if ws[0][\"start\"] > 0:\n",
    "        gaps.append((0.0, ws[0][\"start\"]))\n",
    "    for i in range(1, len(ws)):\n",
    "        a, b = ws[i - 1][\"end\"], ws[i][\"start\"]\n",
    "        if b > a:\n",
    "            gaps.append((a, b))\n",
    "    return gaps\n",
    "\n",
    "\n",
    "def plot_timeline(file_id=\"input\"):\n",
    "    js = JSON_DIR / f\"{file_id}.json\"\n",
    "    ws = load_words(js)\n",
    "    if not ws:\n",
    "        print(\"No words\")\n",
    "        return\n",
    "    T = max(ws[-1][\"end\"], ws[0][\"start\"] + 0.1)\n",
    "    fig, ax = plt.subplots(figsize=(max(8, T / 5), 1.6))\n",
    "    for w in ws:\n",
    "        ax.barh(0, w[\"end\"] - w[\"start\"], left=w[\"start\"], height=0.6, color=\"blue\")\n",
    "    for s, e in find_gaps(ws):\n",
    "        ax.barh(0, e - s, left=s, height=0.6, color=\"red\")\n",
    "    ax.set_xlim(0, T)\n",
    "    ax.set_yticks([])\n",
    "    ax.set_xlabel(\"time (s)\")\n",
    "    ax.set_title(f\"{file_id}: speech(blue) / gaps(red)\")\n",
    "    out = BASE / f\"viz_{file_id}.png\"\n",
    "    fig.tight_layout()\n",
    "    fig.savefig(out, dpi=150)\n",
    "    plt.close(fig)\n",
    "    print(out)\n",
    "\n",
    "\n",
    "plot_timeline(\"input\")"
   ]
  }
 ],
 "metadata": {
  "kernelspec": {
   "display_name": "Python 3",
   "language": "python",
   "name": "python3"
  },
  "language_info": {
   "codemirror_mode": {
    "name": "ipython",
    "version": 3
   },
   "file_extension": ".py",
   "mimetype": "text/x-python",
   "name": "python",
   "nbconvert_exporter": "python",
   "pygments_lexer": "ipython3",
   "version": "3.10.6"
  }
 },
 "nbformat": 4,
 "nbformat_minor": 5
}
