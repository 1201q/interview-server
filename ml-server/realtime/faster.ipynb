{
 "cells": [
  {
   "cell_type": "code",
   "execution_count": 16,
   "id": "21402dfd",
   "metadata": {},
   "outputs": [
    {
     "name": "stdout",
     "output_type": "stream",
     "text": [
      "[0.62s - 12.62s]  제가 생각해도 마찬가지긴 하지만 다른 주변 사람들이 저에게 말해준 단점은 추진력이 부족하다는 것입니다.\n",
      "[12.62s - 19.62s]  저는 어떤 것을 하는 데 있어서 계획을 잘 세웁니다.\n",
      "[19.62s - 27.62s]  하고 싶고 해야 하고 이런 것들은 계획을 세우고 해야겠다 마음은 먹지만\n",
      "[27.62s - 37.62s]  막상 실천하는 것은 좀 드문 것 같습니다. 반드시 해야 할 경우 어떻게 나중에 실천을 하기는 하지만\n",
      "[37.62s - 46.62s]  계속 미루고 해야 하는데 해야 하는데 이렇게 생각만 하는 경우가 자주 있는 것 같습니다.\n",
      "[46.62s - 54.62s]  그렇기 때문에 다른 사람들이 생각할 때 저는 계속 생각과 말만 하고\n",
      "[54.62s - 61.62s]  하지는 않는다고 그렇게 추진력은 부족하는 것 같다고 이야기를 들었습니다.\n",
      "[61.62s - 69.62s]  그리고 다른 사람이 얘기해준 저의 장점은 공감 능력이라는 것입니다.\n",
      "[69.62s - 81.62s]  어떤 고민이나 이야기들을 저에게 이야기를 하면 항상 눈을 마주치며 이야기를 잘 들어주고\n",
      "[81.62s - 89.62s]  공감을 잘 해줘서 마음이 편하고 위로가 된다는 이야기를 많이 들었습니다.\n"
     ]
    }
   ],
   "source": [
    "from faster_whisper import WhisperModel\n",
    "\n",
    "model = WhisperModel(\"small\", device=\"cpu\", compute_type=\"int8\")\n",
    "\n",
    "segments, info = model.transcribe(\n",
    "    \"input.wav\",\n",
    "    language=\"ko\",\n",
    "    vad_filter=True,\n",
    "    initial_prompt=\"한국인 프론트엔드 개발자의 면접 질문 답변입니다.\",\n",
    ")\n",
    "\n",
    "for segment in segments:\n",
    "    print(f\"[{segment.start:.2f}s - {segment.end:.2f}s] {segment.text}\")"
   ]
  },
  {
   "cell_type": "code",
   "execution_count": null,
   "id": "6f9e681c",
   "metadata": {},
   "outputs": [],
   "source": []
  }
 ],
 "metadata": {
  "kernelspec": {
   "display_name": "Python 3",
   "language": "python",
   "name": "python3"
  },
  "language_info": {
   "codemirror_mode": {
    "name": "ipython",
    "version": 3
   },
   "file_extension": ".py",
   "mimetype": "text/x-python",
   "name": "python",
   "nbconvert_exporter": "python",
   "pygments_lexer": "ipython3",
   "version": "3.10.6"
  }
 },
 "nbformat": 4,
 "nbformat_minor": 5
}
